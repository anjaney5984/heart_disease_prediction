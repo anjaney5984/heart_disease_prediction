{
 "cells": [
  {
   "cell_type": "code",
   "execution_count": 48,
   "id": "36752f3c",
   "metadata": {},
   "outputs": [],
   "source": [
    "import pandas as pd\n",
    "import seaborn as sns\n",
    "import matplotlib.pyplot as plt"
   ]
  },
  {
   "cell_type": "code",
   "execution_count": 49,
   "id": "4cb82d48",
   "metadata": {},
   "outputs": [],
   "source": [
    "cvd=pd.read_csv(r\"C:\\Users\\Anjaney Deshpande\\Desktop\\hjghjghjghjghjghjhjghj\\CVD.csv\")\n"
   ]
  },
  {
   "cell_type": "code",
   "execution_count": 50,
   "id": "77bcfcd6-3987-40f6-8c89-927136788767",
   "metadata": {},
   "outputs": [],
   "source": [
    "drop_cols=['Checkup','Skin_Cancer',\n",
    "       'Other_Cancer', 'Depression', 'Diabetes', 'Arthritis', 'Sex',\n",
    "       'BMI', 'Smoking_History','Fruit_Consumption', 'Green_Vegetables_Consumption',\n",
    "       'FriedPotato_Consumption','Height_(cm)','Weight_(kg)']"
   ]
  },
  {
   "cell_type": "code",
   "execution_count": 52,
   "id": "40d41886-bdac-4b5c-ab91-83541ec2b14b",
   "metadata": {},
   "outputs": [
    {
     "data": {
      "text/plain": [
       "Index(['General_Health', 'Exercise', 'Heart_Disease', 'Age_Category',\n",
       "       'Alcohol_Consumption'],\n",
       "      dtype='object')"
      ]
     },
     "execution_count": 52,
     "metadata": {},
     "output_type": "execute_result"
    }
   ],
   "source": [
    "cvd.columns"
   ]
  },
  {
   "cell_type": "code",
   "execution_count": 51,
   "id": "4e432336",
   "metadata": {},
   "outputs": [],
   "source": [
    "cvd=cvd.drop(drop_cols,axis=1)"
   ]
  },
  {
   "cell_type": "code",
   "execution_count": 5,
   "id": "9a38d393",
   "metadata": {},
   "outputs": [],
   "source": [
    "# cvd.Sex.replace({'Female':0,'Male':1},inplace=True)\n",
    "# cvd.General_Health.replace({'Poor':5,'Very Good':2,'Good':3,'Fair':4,'Excellent':1},inplace=True)\n",
    "# cvd['Checkup'].replace({'Within the past 2 years': 0,'Within the past year': 1,\n",
    "#                             '5 or more years ago': 2,'Within the past 5 years': 3, 'Never': 4}, inplace=True)\n",
    "# cvd.Exercise.replace({'No':0,'Yes':1},inplace=True)\n",
    "# cvd.Heart_Disease.replace({'No':0,'Yes':1},inplace=True)\n",
    "# cvd['Skin_Cancer'].replace({'No':0,'Yes':1},inplace=True)\n",
    "# cvd.Other_Cancer.replace({'No':0,'Yes':1},inplace=True)\n",
    "# cvd.Depression.replace({'No':0,'Yes':1},inplace=True)\n",
    "# cvd['Diabetes'].replace({'No': 0,'Yes': 1,\n",
    "#     'No, pre-diabetes or borderline diabetes': 2,'Yes, but female told only during pregnancy': 3}, inplace=True)\n",
    "# cvd['Age_Category'].replace({\n",
    "#     '70-74': 0,'60-64': 1,'75-79': 2,'80+': 3,\n",
    "#         '65-69': 4,'50-54': 5, '45-49': 6,'18-24': 7,'30-34': 8, \n",
    "#     '55-59': 9,'35-39': 10,'40-44': 11,'25-29': 12}, inplace=True)\n",
    "# cvd.Arthritis.replace({'Yes':1,'No':0},inplace=True)\n",
    "# cvd.Smoking_History.replace({'Yes':1,'No':0},inplace=True)"
   ]
  },
  {
   "cell_type": "code",
   "execution_count": 53,
   "id": "ba7fbd80-9804-4fa5-9e78-49fa8d9047a8",
   "metadata": {},
   "outputs": [],
   "source": [
    "cvd.General_Health.replace({'Poor':5,'Very Good':2,'Good':3,'Fair':4,'Excellent':1},inplace=True)\n",
    "cvd.Exercise.replace({'No':0,'Yes':1},inplace=True)\n",
    "cvd.Heart_Disease.replace({'No':0,'Yes':1},inplace=True)\n",
    "cvd['Age_Category'].replace({\n",
    "    '70-74': 0,'60-64': 1,'75-79': 2,'80+': 3,\n",
    "        '65-69': 4,'50-54': 5, '45-49': 6,'18-24': 7,'30-34': 8, \n",
    "    '55-59': 9,'35-39': 10,'40-44': 11,'25-29': 12}, inplace=True)\n"
   ]
  },
  {
   "cell_type": "code",
   "execution_count": 6,
   "id": "64f3f280",
   "metadata": {},
   "outputs": [],
   "source": [
    "# from sklearn.preprocessing import LabelEncoder\n",
    "# le=LabelEncoder()\n",
    "# cvd[cvd.select_dtypes(include='object').columns]=cvd[cvd.select_dtypes(include='object').columns].apply(le.fit_transform)"
   ]
  },
  {
   "cell_type": "code",
   "execution_count": null,
   "id": "d0dd6f7e",
   "metadata": {},
   "outputs": [],
   "source": [
    "# cvd_train,cvd_test=train_test_split(cvd,test_size=0.2)\n",
    "# df4 = cvd_train[cvd_train['Heart_Disease'] ==1]\n",
    "# cvd_train = pd.concat([cvd_train] + [df4] *11, ignore_index=True)"
   ]
  },
  {
   "cell_type": "code",
   "execution_count": 15,
   "id": "9a753a45",
   "metadata": {},
   "outputs": [
    {
     "name": "stdout",
     "output_type": "stream",
     "text": [
      "Accuracy: 0.70\n"
     ]
    }
   ],
   "source": [
    "# import pandas as pd\n",
    "# from sklearn.model_selection import train_test_split\n",
    "# from sklearn.ensemble import RandomForestClassifier\n",
    "# from sklearn.preprocessing import LabelEncoder\n",
    "# from sklearn.metrics import classification_report, accuracy_score\n",
    "\n",
    "\n",
    "# le = LabelEncoder()\n",
    "# cvd[cvd.select_dtypes(include='object').columns] = cvd[cvd.select_dtypes(include='object').columns].apply(le.fit_transform)\n",
    "\n",
    "\n",
    "# cvd_train, cvd_test = train_test_split(cvd, test_size=0.2, random_state=42)\n",
    "\n",
    "\n",
    "# df4 = cvd_train[cvd_train['Heart_Disease'] == 1]\n",
    "# cvd_train = pd.concat([cvd_train] + [df4] * 11, ignore_index=True)\n",
    "\n",
    "# X_train = cvd_train.drop('Heart_Disease', axis=1)\n",
    "# y_train = cvd_train['Heart_Disease']\n",
    "\n",
    "# X_test = cvd_test.drop('Heart_Disease', axis=1)\n",
    "# y_test = cvd_test['Heart_Disease']\n",
    "\n",
    "\n",
    "# model = RandomForestClassifier(\n",
    "#     criterion='entropy',\n",
    "#     n_estimators=113,\n",
    "#     min_samples_split=63,\n",
    "#     max_depth=8,\n",
    "#     random_state=42\n",
    "# )\n",
    "\n",
    "\n",
    "# model.fit(X_train, y_train)\n",
    "\n",
    "# y_pred = model.predict(X_test)\n",
    "# accuracy = accuracy_score(y_test, y_pred)\n",
    "# print(f\"Accuracy: {accuracy:.2f}\")\n",
    "\n"
   ]
  },
  {
   "cell_type": "code",
   "execution_count": 7,
   "id": "694c5e18",
   "metadata": {},
   "outputs": [],
   "source": [
    "# import pickle\n",
    "# pickle.dump(model,open(r\"C:\\Users\\Anjaney Deshpande\\Desktop\\cloudproject\\build.pkl\",'wb'))"
   ]
  },
  {
   "cell_type": "code",
   "execution_count": 54,
   "id": "96b165fa",
   "metadata": {},
   "outputs": [],
   "source": [
    "from sklearn.model_selection import train_test_split"
   ]
  },
  {
   "cell_type": "code",
   "execution_count": 55,
   "id": "98b7c77f-8bc8-404b-b351-57aedab27d52",
   "metadata": {},
   "outputs": [],
   "source": [
    "cvd_train,cvd_test=train_test_split(cvd,test_size=0.2)"
   ]
  },
  {
   "cell_type": "code",
   "execution_count": 56,
   "id": "c468bcf2-1d21-40d5-9cf3-bbfdafb74242",
   "metadata": {},
   "outputs": [],
   "source": [
    "cvd_train_x = cvd_train.drop(columns=['Heart_Disease'],axis=1)\n",
    "cvd_train_y = cvd_train['Heart_Disease']\n",
    "cvd_test_x = cvd_test.drop(columns=['Heart_Disease'],axis=1)\n",
    "cvd_test_y = cvd_test['Heart_Disease']"
   ]
  },
  {
   "cell_type": "code",
   "execution_count": 57,
   "id": "dfadb4ea-3ed9-43c3-987d-d1fa0fdf4e09",
   "metadata": {},
   "outputs": [],
   "source": [
    "from imblearn.over_sampling import SMOTE    \n",
    "smote = SMOTE(sampling_strategy='auto', random_state=42)\n",
    "cvd_train_x_resampled, cvd_train_y_resampled = smote.fit_resample(cvd_train_x, cvd_train_y)"
   ]
  },
  {
   "cell_type": "code",
   "execution_count": 58,
   "id": "9a818861-ae73-45e4-b014-486f4fd22f50",
   "metadata": {},
   "outputs": [
    {
     "name": "stdout",
     "output_type": "stream",
     "text": [
      "Time taken ---->>>> 10.93908036549886 minutes\n",
      "Best Hyperparameters: {'criterion': 'gini', 'max_depth': 8, 'min_samples_split': 79, 'n_estimators': 65}\n"
     ]
    }
   ],
   "source": [
    "import time\n",
    "from sklearn.ensemble import RandomForestClassifier\n",
    "from sklearn.model_selection import RandomizedSearchCV\n",
    "from scipy.stats import randint\n",
    "\n",
    "# Record the start time\n",
    "start = time.time()\n",
    "\n",
    "# Define the parameter search space\n",
    "search_dict = {\n",
    "    'n_estimators': randint(50, 150),\n",
    "    'criterion': ['gini', 'entropy'],\n",
    "    'max_depth': randint(4, 9),\n",
    "    'min_samples_split': randint(50, 100)\n",
    "} \n",
    "\n",
    "# Initialize the RandomForestClassifier\n",
    "rfc = RandomForestClassifier()\n",
    "\n",
    "# Initialize RandomizedSearchCV with the search space and other parameters\n",
    "random_search = RandomizedSearchCV(rfc, param_distributions=search_dict, n_iter=10, cv=5)\n",
    "\n",
    "# Fit the model with the training data\n",
    "random_search.fit(cvd_train_x_resampled, cvd_train_y_resampled)\n",
    "\n",
    "# Record the stop time\n",
    "stop = time.time()\n",
    "\n",
    "# Calculate the time taken in minutes\n",
    "ex = (stop - start) / 60\n",
    "\n",
    "# Print the time taken and the best hyperparameters\n",
    "print(f\"Time taken ---->>>> {ex} minutes\")\n",
    "print(\"Best Hyperparameters:\", random_search.best_params_)\n"
   ]
  },
  {
   "cell_type": "code",
   "execution_count": 59,
   "id": "4914ba60-dde7-4bd5-970a-1868a7fc926d",
   "metadata": {},
   "outputs": [],
   "source": [
    "rfc = RandomForestClassifier(criterion='gini',max_depth=8,min_samples_split=79,n_estimators=65)\n",
    "# criterion='gini',max_depth=8,min_samples_split= 51,n_estimators=59\n"
   ]
  },
  {
   "cell_type": "code",
   "execution_count": 60,
   "id": "d67977f1-9e9a-4f1d-a080-0cd982784721",
   "metadata": {},
   "outputs": [
    {
     "data": {
      "text/html": [
       "<style>#sk-container-id-3 {color: black;background-color: white;}#sk-container-id-3 pre{padding: 0;}#sk-container-id-3 div.sk-toggleable {background-color: white;}#sk-container-id-3 label.sk-toggleable__label {cursor: pointer;display: block;width: 100%;margin-bottom: 0;padding: 0.3em;box-sizing: border-box;text-align: center;}#sk-container-id-3 label.sk-toggleable__label-arrow:before {content: \"▸\";float: left;margin-right: 0.25em;color: #696969;}#sk-container-id-3 label.sk-toggleable__label-arrow:hover:before {color: black;}#sk-container-id-3 div.sk-estimator:hover label.sk-toggleable__label-arrow:before {color: black;}#sk-container-id-3 div.sk-toggleable__content {max-height: 0;max-width: 0;overflow: hidden;text-align: left;background-color: #f0f8ff;}#sk-container-id-3 div.sk-toggleable__content pre {margin: 0.2em;color: black;border-radius: 0.25em;background-color: #f0f8ff;}#sk-container-id-3 input.sk-toggleable__control:checked~div.sk-toggleable__content {max-height: 200px;max-width: 100%;overflow: auto;}#sk-container-id-3 input.sk-toggleable__control:checked~label.sk-toggleable__label-arrow:before {content: \"▾\";}#sk-container-id-3 div.sk-estimator input.sk-toggleable__control:checked~label.sk-toggleable__label {background-color: #d4ebff;}#sk-container-id-3 div.sk-label input.sk-toggleable__control:checked~label.sk-toggleable__label {background-color: #d4ebff;}#sk-container-id-3 input.sk-hidden--visually {border: 0;clip: rect(1px 1px 1px 1px);clip: rect(1px, 1px, 1px, 1px);height: 1px;margin: -1px;overflow: hidden;padding: 0;position: absolute;width: 1px;}#sk-container-id-3 div.sk-estimator {font-family: monospace;background-color: #f0f8ff;border: 1px dotted black;border-radius: 0.25em;box-sizing: border-box;margin-bottom: 0.5em;}#sk-container-id-3 div.sk-estimator:hover {background-color: #d4ebff;}#sk-container-id-3 div.sk-parallel-item::after {content: \"\";width: 100%;border-bottom: 1px solid gray;flex-grow: 1;}#sk-container-id-3 div.sk-label:hover label.sk-toggleable__label {background-color: #d4ebff;}#sk-container-id-3 div.sk-serial::before {content: \"\";position: absolute;border-left: 1px solid gray;box-sizing: border-box;top: 0;bottom: 0;left: 50%;z-index: 0;}#sk-container-id-3 div.sk-serial {display: flex;flex-direction: column;align-items: center;background-color: white;padding-right: 0.2em;padding-left: 0.2em;position: relative;}#sk-container-id-3 div.sk-item {position: relative;z-index: 1;}#sk-container-id-3 div.sk-parallel {display: flex;align-items: stretch;justify-content: center;background-color: white;position: relative;}#sk-container-id-3 div.sk-item::before, #sk-container-id-3 div.sk-parallel-item::before {content: \"\";position: absolute;border-left: 1px solid gray;box-sizing: border-box;top: 0;bottom: 0;left: 50%;z-index: -1;}#sk-container-id-3 div.sk-parallel-item {display: flex;flex-direction: column;z-index: 1;position: relative;background-color: white;}#sk-container-id-3 div.sk-parallel-item:first-child::after {align-self: flex-end;width: 50%;}#sk-container-id-3 div.sk-parallel-item:last-child::after {align-self: flex-start;width: 50%;}#sk-container-id-3 div.sk-parallel-item:only-child::after {width: 0;}#sk-container-id-3 div.sk-dashed-wrapped {border: 1px dashed gray;margin: 0 0.4em 0.5em 0.4em;box-sizing: border-box;padding-bottom: 0.4em;background-color: white;}#sk-container-id-3 div.sk-label label {font-family: monospace;font-weight: bold;display: inline-block;line-height: 1.2em;}#sk-container-id-3 div.sk-label-container {text-align: center;}#sk-container-id-3 div.sk-container {/* jupyter's `normalize.less` sets `[hidden] { display: none; }` but bootstrap.min.css set `[hidden] { display: none !important; }` so we also need the `!important` here to be able to override the default hidden behavior on the sphinx rendered scikit-learn.org. See: https://github.com/scikit-learn/scikit-learn/issues/21755 */display: inline-block !important;position: relative;}#sk-container-id-3 div.sk-text-repr-fallback {display: none;}</style><div id=\"sk-container-id-3\" class=\"sk-top-container\"><div class=\"sk-text-repr-fallback\"><pre>RandomForestClassifier(max_depth=8, min_samples_split=79, n_estimators=65)</pre><b>In a Jupyter environment, please rerun this cell to show the HTML representation or trust the notebook. <br />On GitHub, the HTML representation is unable to render, please try loading this page with nbviewer.org.</b></div><div class=\"sk-container\" hidden><div class=\"sk-item\"><div class=\"sk-estimator sk-toggleable\"><input class=\"sk-toggleable__control sk-hidden--visually\" id=\"sk-estimator-id-3\" type=\"checkbox\" checked><label for=\"sk-estimator-id-3\" class=\"sk-toggleable__label sk-toggleable__label-arrow\">RandomForestClassifier</label><div class=\"sk-toggleable__content\"><pre>RandomForestClassifier(max_depth=8, min_samples_split=79, n_estimators=65)</pre></div></div></div></div></div>"
      ],
      "text/plain": [
       "RandomForestClassifier(max_depth=8, min_samples_split=79, n_estimators=65)"
      ]
     },
     "execution_count": 60,
     "metadata": {},
     "output_type": "execute_result"
    }
   ],
   "source": [
    "rfc.fit(cvd_train_x_resampled,cvd_train_y_resampled)"
   ]
  },
  {
   "cell_type": "code",
   "execution_count": 61,
   "id": "93144f6a-e710-4a67-adbd-ae622e684f7c",
   "metadata": {},
   "outputs": [],
   "source": [
    "pred=rfc.predict(cvd_test_x)\n"
   ]
  },
  {
   "cell_type": "code",
   "execution_count": 62,
   "id": "7da37ebd-83d9-40e9-b37c-162f4a8f483e",
   "metadata": {},
   "outputs": [],
   "source": [
    "from sklearn.metrics import confusion_matrix,classification_report"
   ]
  },
  {
   "cell_type": "code",
   "execution_count": 63,
   "id": "aab8c3ee-6ff6-48d0-be83-57cfe1be4c98",
   "metadata": {},
   "outputs": [
    {
     "data": {
      "text/plain": [
       "array([[39146, 17707],\n",
       "       [ 1011,  3907]], dtype=int64)"
      ]
     },
     "execution_count": 63,
     "metadata": {},
     "output_type": "execute_result"
    }
   ],
   "source": [
    "mat=confusion_matrix(cvd_test_y,pred)\n",
    "mat"
   ]
  },
  {
   "cell_type": "code",
   "execution_count": 26,
   "id": "020e13e1-f26f-4ec9-a04b-d4e7c2cfbcea",
   "metadata": {},
   "outputs": [],
   "source": [
    "import seaborn as sns\n",
    "import numpy as np"
   ]
  },
  {
   "cell_type": "code",
   "execution_count": 28,
   "id": "eae3b7ae-5db4-485b-a1c2-969421a7575f",
   "metadata": {},
   "outputs": [],
   "source": [
    "# sns.heatmap(confusion_matrix(cvd_test_y,pred),annot=True,fmt='d',cmap='mako_r')"
   ]
  },
  {
   "cell_type": "code",
   "execution_count": 64,
   "id": "4a064b11-d384-48ac-8366-ab2a28911b41",
   "metadata": {},
   "outputs": [],
   "source": [
    "import pickle\n",
    "pickle.dump(rfc,open(r\"C:\\Users\\Anjaney Deshpande\\Desktop\\datazip\\cvd_project.pkl\",'wb'))"
   ]
  },
  {
   "cell_type": "code",
   "execution_count": null,
   "id": "9d77eabc-911c-418a-ba72-f46b9392a580",
   "metadata": {},
   "outputs": [],
   "source": []
  },
  {
   "cell_type": "code",
   "execution_count": null,
   "id": "7d3c1610-7e39-4505-8ce1-9daac1e53ed0",
   "metadata": {},
   "outputs": [],
   "source": []
  },
  {
   "cell_type": "code",
   "execution_count": 65,
   "id": "6608e237-ac28-4d5e-bb9b-0125ca4eb1ba",
   "metadata": {},
   "outputs": [
    {
     "data": {
      "text/plain": [
       "Index(['General_Health', 'Exercise', 'Heart_Disease', 'Age_Category',\n",
       "       'Alcohol_Consumption'],\n",
       "      dtype='object')"
      ]
     },
     "execution_count": 65,
     "metadata": {},
     "output_type": "execute_result"
    }
   ],
   "source": [
    "cvd.columns"
   ]
  },
  {
   "cell_type": "code",
   "execution_count": 67,
   "id": "fa4b00f6-684e-466a-bceb-9b099fed1177",
   "metadata": {},
   "outputs": [
    {
     "name": "stdout",
     "output_type": "stream",
     "text": [
      "<class 'pandas.core.frame.DataFrame'>\n",
      "RangeIndex: 308854 entries, 0 to 308853\n",
      "Data columns (total 5 columns):\n",
      " #   Column               Non-Null Count   Dtype  \n",
      "---  ------               --------------   -----  \n",
      " 0   General_Health       308854 non-null  int64  \n",
      " 1   Exercise             308854 non-null  int64  \n",
      " 2   Heart_Disease        308854 non-null  int64  \n",
      " 3   Age_Category         308854 non-null  int64  \n",
      " 4   Alcohol_Consumption  308854 non-null  float64\n",
      "dtypes: float64(1), int64(4)\n",
      "memory usage: 11.8 MB\n"
     ]
    }
   ],
   "source": [
    "cvd.info()"
   ]
  },
  {
   "cell_type": "code",
   "execution_count": 68,
   "id": "bfd4d77c-e8c8-4c79-b88c-e2db8deea035",
   "metadata": {},
   "outputs": [
    {
     "data": {
      "text/html": [
       "<div>\n",
       "<style scoped>\n",
       "    .dataframe tbody tr th:only-of-type {\n",
       "        vertical-align: middle;\n",
       "    }\n",
       "\n",
       "    .dataframe tbody tr th {\n",
       "        vertical-align: top;\n",
       "    }\n",
       "\n",
       "    .dataframe thead th {\n",
       "        text-align: right;\n",
       "    }\n",
       "</style>\n",
       "<table border=\"1\" class=\"dataframe\">\n",
       "  <thead>\n",
       "    <tr style=\"text-align: right;\">\n",
       "      <th></th>\n",
       "      <th>General_Health</th>\n",
       "      <th>Exercise</th>\n",
       "      <th>Heart_Disease</th>\n",
       "      <th>Age_Category</th>\n",
       "      <th>Alcohol_Consumption</th>\n",
       "    </tr>\n",
       "  </thead>\n",
       "  <tbody>\n",
       "    <tr>\n",
       "      <th>0</th>\n",
       "      <td>5</td>\n",
       "      <td>0</td>\n",
       "      <td>0</td>\n",
       "      <td>0</td>\n",
       "      <td>0.0</td>\n",
       "    </tr>\n",
       "    <tr>\n",
       "      <th>1</th>\n",
       "      <td>2</td>\n",
       "      <td>0</td>\n",
       "      <td>1</td>\n",
       "      <td>0</td>\n",
       "      <td>0.0</td>\n",
       "    </tr>\n",
       "    <tr>\n",
       "      <th>2</th>\n",
       "      <td>2</td>\n",
       "      <td>1</td>\n",
       "      <td>0</td>\n",
       "      <td>1</td>\n",
       "      <td>4.0</td>\n",
       "    </tr>\n",
       "    <tr>\n",
       "      <th>3</th>\n",
       "      <td>5</td>\n",
       "      <td>1</td>\n",
       "      <td>1</td>\n",
       "      <td>2</td>\n",
       "      <td>0.0</td>\n",
       "    </tr>\n",
       "    <tr>\n",
       "      <th>4</th>\n",
       "      <td>3</td>\n",
       "      <td>0</td>\n",
       "      <td>0</td>\n",
       "      <td>3</td>\n",
       "      <td>0.0</td>\n",
       "    </tr>\n",
       "  </tbody>\n",
       "</table>\n",
       "</div>"
      ],
      "text/plain": [
       "   General_Health  Exercise  Heart_Disease  Age_Category  Alcohol_Consumption\n",
       "0               5         0              0             0                  0.0\n",
       "1               2         0              1             0                  0.0\n",
       "2               2         1              0             1                  4.0\n",
       "3               5         1              1             2                  0.0\n",
       "4               3         0              0             3                  0.0"
      ]
     },
     "execution_count": 68,
     "metadata": {},
     "output_type": "execute_result"
    }
   ],
   "source": [
    "cvd.head()"
   ]
  },
  {
   "cell_type": "code",
   "execution_count": 69,
   "id": "7014b477-26a2-4adb-9eee-7ad64c626e83",
   "metadata": {},
   "outputs": [
    {
     "name": "stdout",
     "output_type": "stream",
     "text": [
      "Collecting gradio\n",
      "  Downloading gradio-4.32.1-py3-none-any.whl.metadata (15 kB)\n",
      "Collecting aiofiles<24.0,>=22.0 (from gradio)\n",
      "  Downloading aiofiles-23.2.1-py3-none-any.whl.metadata (9.7 kB)\n",
      "Requirement already satisfied: altair<6.0,>=4.2.0 in c:\\programdata\\anaconda3\\lib\\site-packages (from gradio) (5.0.1)\n",
      "Collecting fastapi (from gradio)\n",
      "  Downloading fastapi-0.111.0-py3-none-any.whl.metadata (25 kB)\n",
      "Collecting ffmpy (from gradio)\n",
      "  Using cached ffmpy-0.3.2-py3-none-any.whl\n",
      "Collecting gradio-client==0.17.0 (from gradio)\n",
      "  Downloading gradio_client-0.17.0-py3-none-any.whl.metadata (7.1 kB)\n",
      "Collecting httpx>=0.24.1 (from gradio)\n",
      "  Downloading httpx-0.27.0-py3-none-any.whl.metadata (7.2 kB)\n",
      "Collecting huggingface-hub>=0.19.3 (from gradio)\n",
      "  Downloading huggingface_hub-0.23.2-py3-none-any.whl.metadata (12 kB)\n",
      "Collecting importlib-resources<7.0,>=1.3 (from gradio)\n",
      "  Downloading importlib_resources-6.4.0-py3-none-any.whl.metadata (3.9 kB)\n",
      "Requirement already satisfied: jinja2<4.0 in c:\\programdata\\anaconda3\\lib\\site-packages (from gradio) (3.1.3)\n",
      "Requirement already satisfied: markupsafe~=2.0 in c:\\programdata\\anaconda3\\lib\\site-packages (from gradio) (2.1.3)\n",
      "Requirement already satisfied: matplotlib~=3.0 in c:\\programdata\\anaconda3\\lib\\site-packages (from gradio) (3.8.0)\n",
      "Requirement already satisfied: numpy~=1.0 in c:\\programdata\\anaconda3\\lib\\site-packages (from gradio) (1.26.4)\n",
      "Collecting orjson~=3.0 (from gradio)\n",
      "  Downloading orjson-3.10.3-cp311-none-win_amd64.whl.metadata (50 kB)\n",
      "     ---------------------------------------- 0.0/50.9 kB ? eta -:--:--\n",
      "     ------------------------------ ------- 41.0/50.9 kB 991.0 kB/s eta 0:00:01\n",
      "     -------------------------------------- 50.9/50.9 kB 865.8 kB/s eta 0:00:00\n",
      "Requirement already satisfied: packaging in c:\\programdata\\anaconda3\\lib\\site-packages (from gradio) (23.1)\n",
      "Requirement already satisfied: pandas<3.0,>=1.0 in c:\\programdata\\anaconda3\\lib\\site-packages (from gradio) (2.1.4)\n",
      "Requirement already satisfied: pillow<11.0,>=8.0 in c:\\programdata\\anaconda3\\lib\\site-packages (from gradio) (10.2.0)\n",
      "Collecting pydantic>=2.0 (from gradio)\n",
      "  Downloading pydantic-2.7.2-py3-none-any.whl.metadata (108 kB)\n",
      "     ---------------------------------------- 0.0/108.5 kB ? eta -:--:--\n",
      "     ----------------------------- --------- 81.9/108.5 kB 2.3 MB/s eta 0:00:01\n",
      "     -------------------------------------- 108.5/108.5 kB 1.3 MB/s eta 0:00:00\n",
      "Collecting pydub (from gradio)\n",
      "  Downloading pydub-0.25.1-py2.py3-none-any.whl.metadata (1.4 kB)\n",
      "Collecting python-multipart>=0.0.9 (from gradio)\n",
      "  Downloading python_multipart-0.0.9-py3-none-any.whl.metadata (2.5 kB)\n",
      "Requirement already satisfied: pyyaml<7.0,>=5.0 in c:\\programdata\\anaconda3\\lib\\site-packages (from gradio) (6.0.1)\n",
      "Collecting ruff>=0.2.2 (from gradio)\n",
      "  Downloading ruff-0.4.7-py3-none-win_amd64.whl.metadata (24 kB)\n",
      "Collecting semantic-version~=2.0 (from gradio)\n",
      "  Downloading semantic_version-2.10.0-py2.py3-none-any.whl.metadata (9.7 kB)\n",
      "Collecting tomlkit==0.12.0 (from gradio)\n",
      "  Downloading tomlkit-0.12.0-py3-none-any.whl.metadata (2.7 kB)\n",
      "Collecting typer<1.0,>=0.12 (from gradio)\n",
      "  Downloading typer-0.12.3-py3-none-any.whl.metadata (15 kB)\n",
      "Requirement already satisfied: typing-extensions~=4.0 in c:\\programdata\\anaconda3\\lib\\site-packages (from gradio) (4.9.0)\n",
      "Requirement already satisfied: urllib3~=2.0 in c:\\programdata\\anaconda3\\lib\\site-packages (from gradio) (2.0.7)\n",
      "Collecting uvicorn>=0.14.0 (from gradio)\n",
      "  Downloading uvicorn-0.30.0-py3-none-any.whl.metadata (6.3 kB)\n",
      "Requirement already satisfied: fsspec in c:\\programdata\\anaconda3\\lib\\site-packages (from gradio-client==0.17.0->gradio) (2023.10.0)\n",
      "Collecting websockets<12.0,>=10.0 (from gradio-client==0.17.0->gradio)\n",
      "  Downloading websockets-11.0.3-cp311-cp311-win_amd64.whl.metadata (6.8 kB)\n",
      "Requirement already satisfied: jsonschema>=3.0 in c:\\programdata\\anaconda3\\lib\\site-packages (from altair<6.0,>=4.2.0->gradio) (4.19.2)\n",
      "Requirement already satisfied: toolz in c:\\programdata\\anaconda3\\lib\\site-packages (from altair<6.0,>=4.2.0->gradio) (0.12.0)\n",
      "Requirement already satisfied: anyio in c:\\programdata\\anaconda3\\lib\\site-packages (from httpx>=0.24.1->gradio) (4.2.0)\n",
      "Requirement already satisfied: certifi in c:\\programdata\\anaconda3\\lib\\site-packages (from httpx>=0.24.1->gradio) (2024.2.2)\n",
      "Collecting httpcore==1.* (from httpx>=0.24.1->gradio)\n",
      "  Downloading httpcore-1.0.5-py3-none-any.whl.metadata (20 kB)\n",
      "Requirement already satisfied: idna in c:\\programdata\\anaconda3\\lib\\site-packages (from httpx>=0.24.1->gradio) (3.4)\n",
      "Requirement already satisfied: sniffio in c:\\programdata\\anaconda3\\lib\\site-packages (from httpx>=0.24.1->gradio) (1.3.0)\n",
      "Collecting h11<0.15,>=0.13 (from httpcore==1.*->httpx>=0.24.1->gradio)\n",
      "  Downloading h11-0.14.0-py3-none-any.whl.metadata (8.2 kB)\n",
      "Requirement already satisfied: filelock in c:\\programdata\\anaconda3\\lib\\site-packages (from huggingface-hub>=0.19.3->gradio) (3.13.1)\n",
      "Requirement already satisfied: requests in c:\\programdata\\anaconda3\\lib\\site-packages (from huggingface-hub>=0.19.3->gradio) (2.31.0)\n",
      "Requirement already satisfied: tqdm>=4.42.1 in c:\\programdata\\anaconda3\\lib\\site-packages (from huggingface-hub>=0.19.3->gradio) (4.65.0)\n",
      "Requirement already satisfied: contourpy>=1.0.1 in c:\\programdata\\anaconda3\\lib\\site-packages (from matplotlib~=3.0->gradio) (1.2.0)\n",
      "Requirement already satisfied: cycler>=0.10 in c:\\programdata\\anaconda3\\lib\\site-packages (from matplotlib~=3.0->gradio) (0.11.0)\n",
      "Requirement already satisfied: fonttools>=4.22.0 in c:\\programdata\\anaconda3\\lib\\site-packages (from matplotlib~=3.0->gradio) (4.25.0)\n",
      "Requirement already satisfied: kiwisolver>=1.0.1 in c:\\programdata\\anaconda3\\lib\\site-packages (from matplotlib~=3.0->gradio) (1.4.4)\n",
      "Requirement already satisfied: pyparsing>=2.3.1 in c:\\programdata\\anaconda3\\lib\\site-packages (from matplotlib~=3.0->gradio) (3.0.9)\n",
      "Requirement already satisfied: python-dateutil>=2.7 in c:\\programdata\\anaconda3\\lib\\site-packages (from matplotlib~=3.0->gradio) (2.8.2)\n",
      "Requirement already satisfied: pytz>=2020.1 in c:\\programdata\\anaconda3\\lib\\site-packages (from pandas<3.0,>=1.0->gradio) (2023.3.post1)\n",
      "Requirement already satisfied: tzdata>=2022.1 in c:\\programdata\\anaconda3\\lib\\site-packages (from pandas<3.0,>=1.0->gradio) (2023.3)\n",
      "Collecting annotated-types>=0.4.0 (from pydantic>=2.0->gradio)\n",
      "  Downloading annotated_types-0.7.0-py3-none-any.whl.metadata (15 kB)\n",
      "Collecting pydantic-core==2.18.3 (from pydantic>=2.0->gradio)\n",
      "  Downloading pydantic_core-2.18.3-cp311-none-win_amd64.whl.metadata (6.7 kB)\n",
      "Requirement already satisfied: click>=8.0.0 in c:\\programdata\\anaconda3\\lib\\site-packages (from typer<1.0,>=0.12->gradio) (8.1.7)\n",
      "Collecting shellingham>=1.3.0 (from typer<1.0,>=0.12->gradio)\n",
      "  Downloading shellingham-1.5.4-py2.py3-none-any.whl.metadata (3.5 kB)\n",
      "Requirement already satisfied: rich>=10.11.0 in c:\\programdata\\anaconda3\\lib\\site-packages (from typer<1.0,>=0.12->gradio) (13.3.5)\n",
      "Collecting starlette<0.38.0,>=0.37.2 (from fastapi->gradio)\n",
      "  Downloading starlette-0.37.2-py3-none-any.whl.metadata (5.9 kB)\n",
      "Collecting fastapi-cli>=0.0.2 (from fastapi->gradio)\n",
      "  Downloading fastapi_cli-0.0.4-py3-none-any.whl.metadata (7.0 kB)\n",
      "Requirement already satisfied: ujson!=4.0.2,!=4.1.0,!=4.2.0,!=4.3.0,!=5.0.0,!=5.1.0,>=4.0.1 in c:\\programdata\\anaconda3\\lib\\site-packages (from fastapi->gradio) (5.4.0)\n",
      "Collecting email_validator>=2.0.0 (from fastapi->gradio)\n",
      "  Downloading email_validator-2.1.1-py3-none-any.whl.metadata (26 kB)\n",
      "Requirement already satisfied: colorama in c:\\programdata\\anaconda3\\lib\\site-packages (from click>=8.0.0->typer<1.0,>=0.12->gradio) (0.4.6)\n",
      "Collecting dnspython>=2.0.0 (from email_validator>=2.0.0->fastapi->gradio)\n",
      "  Downloading dnspython-2.6.1-py3-none-any.whl.metadata (5.8 kB)\n",
      "Requirement already satisfied: attrs>=22.2.0 in c:\\programdata\\anaconda3\\lib\\site-packages (from jsonschema>=3.0->altair<6.0,>=4.2.0->gradio) (23.1.0)\n",
      "Requirement already satisfied: jsonschema-specifications>=2023.03.6 in c:\\programdata\\anaconda3\\lib\\site-packages (from jsonschema>=3.0->altair<6.0,>=4.2.0->gradio) (2023.7.1)\n",
      "Requirement already satisfied: referencing>=0.28.4 in c:\\programdata\\anaconda3\\lib\\site-packages (from jsonschema>=3.0->altair<6.0,>=4.2.0->gradio) (0.30.2)\n",
      "Requirement already satisfied: rpds-py>=0.7.1 in c:\\programdata\\anaconda3\\lib\\site-packages (from jsonschema>=3.0->altair<6.0,>=4.2.0->gradio) (0.10.6)\n",
      "Requirement already satisfied: six>=1.5 in c:\\programdata\\anaconda3\\lib\\site-packages (from python-dateutil>=2.7->matplotlib~=3.0->gradio) (1.16.0)\n",
      "Requirement already satisfied: markdown-it-py<3.0.0,>=2.2.0 in c:\\programdata\\anaconda3\\lib\\site-packages (from rich>=10.11.0->typer<1.0,>=0.12->gradio) (2.2.0)\n",
      "Requirement already satisfied: pygments<3.0.0,>=2.13.0 in c:\\programdata\\anaconda3\\lib\\site-packages (from rich>=10.11.0->typer<1.0,>=0.12->gradio) (2.15.1)\n",
      "Collecting httptools>=0.5.0 (from uvicorn[standard]>=0.12.0->fastapi->gradio)\n",
      "  Downloading httptools-0.6.1-cp311-cp311-win_amd64.whl.metadata (3.7 kB)\n",
      "Requirement already satisfied: python-dotenv>=0.13 in c:\\programdata\\anaconda3\\lib\\site-packages (from uvicorn[standard]>=0.12.0->fastapi->gradio) (0.21.0)\n",
      "Collecting watchfiles>=0.13 (from uvicorn[standard]>=0.12.0->fastapi->gradio)\n",
      "  Downloading watchfiles-0.22.0-cp311-none-win_amd64.whl.metadata (5.0 kB)\n",
      "Requirement already satisfied: charset-normalizer<4,>=2 in c:\\programdata\\anaconda3\\lib\\site-packages (from requests->huggingface-hub>=0.19.3->gradio) (2.0.4)\n",
      "Requirement already satisfied: mdurl~=0.1 in c:\\programdata\\anaconda3\\lib\\site-packages (from markdown-it-py<3.0.0,>=2.2.0->rich>=10.11.0->typer<1.0,>=0.12->gradio) (0.1.0)\n",
      "Downloading gradio-4.32.1-py3-none-any.whl (12.3 MB)\n",
      "   ---------------------------------------- 0.0/12.3 MB ? eta -:--:--\n",
      "   - -------------------------------------- 0.3/12.3 MB 6.3 MB/s eta 0:00:02\n",
      "   -- ------------------------------------- 0.6/12.3 MB 7.7 MB/s eta 0:00:02\n",
      "   --- ------------------------------------ 1.0/12.3 MB 8.1 MB/s eta 0:00:02\n",
      "   ----- ---------------------------------- 1.6/12.3 MB 9.0 MB/s eta 0:00:02\n",
      "   ------ --------------------------------- 2.1/12.3 MB 10.3 MB/s eta 0:00:01\n",
      "   -------- ------------------------------- 2.7/12.3 MB 10.9 MB/s eta 0:00:01\n",
      "   ---------- ----------------------------- 3.3/12.3 MB 10.9 MB/s eta 0:00:01\n",
      "   ------------ --------------------------- 3.9/12.3 MB 11.2 MB/s eta 0:00:01\n",
      "   -------------- ------------------------- 4.3/12.3 MB 11.0 MB/s eta 0:00:01\n",
      "   ---------------- ----------------------- 5.0/12.3 MB 10.9 MB/s eta 0:00:01\n",
      "   ----------------- ---------------------- 5.5/12.3 MB 11.4 MB/s eta 0:00:01\n",
      "   ------------------- -------------------- 6.0/12.3 MB 11.3 MB/s eta 0:00:01\n",
      "   -------------------- ------------------- 6.4/12.3 MB 11.4 MB/s eta 0:00:01\n",
      "   ---------------------- ----------------- 7.0/12.3 MB 11.5 MB/s eta 0:00:01\n",
      "   ------------------------ --------------- 7.6/12.3 MB 11.5 MB/s eta 0:00:01\n",
      "   -------------------------- ------------- 8.2/12.3 MB 11.7 MB/s eta 0:00:01\n",
      "   ---------------------------- ----------- 8.7/12.3 MB 11.9 MB/s eta 0:00:01\n",
      "   ------------------------------ --------- 9.2/12.3 MB 11.8 MB/s eta 0:00:01\n",
      "   ------------------------------- -------- 9.8/12.3 MB 11.8 MB/s eta 0:00:01\n",
      "   --------------------------------- ------ 10.4/12.3 MB 12.4 MB/s eta 0:00:01\n",
      "   ----------------------------------- ---- 10.9/12.3 MB 12.4 MB/s eta 0:00:01\n",
      "   ------------------------------------- -- 11.5/12.3 MB 12.8 MB/s eta 0:00:01\n",
      "   ---------------------------------------  12.0/12.3 MB 12.6 MB/s eta 0:00:01\n",
      "   ---------------------------------------  12.3/12.3 MB 12.4 MB/s eta 0:00:01\n",
      "   ---------------------------------------- 12.3/12.3 MB 11.7 MB/s eta 0:00:00\n",
      "Downloading gradio_client-0.17.0-py3-none-any.whl (316 kB)\n",
      "   ---------------------------------------- 0.0/316.3 kB ? eta -:--:--\n",
      "   ---------------------------------------- 316.3/316.3 kB 6.5 MB/s eta 0:00:00\n",
      "Downloading tomlkit-0.12.0-py3-none-any.whl (37 kB)\n",
      "Downloading aiofiles-23.2.1-py3-none-any.whl (15 kB)\n",
      "Downloading httpx-0.27.0-py3-none-any.whl (75 kB)\n",
      "   ---------------------------------------- 0.0/75.6 kB ? eta -:--:--\n",
      "   ---------------------------------------- 75.6/75.6 kB 4.4 MB/s eta 0:00:00\n",
      "Downloading httpcore-1.0.5-py3-none-any.whl (77 kB)\n",
      "   ---------------------------------------- 0.0/77.9 kB ? eta -:--:--\n",
      "   ---------------------------------------- 77.9/77.9 kB ? eta 0:00:00\n",
      "Downloading huggingface_hub-0.23.2-py3-none-any.whl (401 kB)\n",
      "   ---------------------------------------- 0.0/401.7 kB ? eta -:--:--\n",
      "   ---------------------------------------  399.4/401.7 kB 8.3 MB/s eta 0:00:01\n",
      "   ---------------------------------------- 401.7/401.7 kB 8.3 MB/s eta 0:00:00\n",
      "Downloading importlib_resources-6.4.0-py3-none-any.whl (38 kB)\n",
      "Downloading orjson-3.10.3-cp311-none-win_amd64.whl (138 kB)\n",
      "   ---------------------------------------- 0.0/138.8 kB ? eta -:--:--\n",
      "   ---------------------------------------- 138.8/138.8 kB 8.0 MB/s eta 0:00:00\n",
      "Downloading pydantic-2.7.2-py3-none-any.whl (409 kB)\n",
      "   ---------------------------------------- 0.0/409.5 kB ? eta -:--:--\n",
      "   --------------------------------------- 409.5/409.5 kB 12.9 MB/s eta 0:00:00\n",
      "Downloading pydantic_core-2.18.3-cp311-none-win_amd64.whl (1.9 MB)\n",
      "   ---------------------------------------- 0.0/1.9 MB ? eta -:--:--\n",
      "   ------------- -------------------------- 0.6/1.9 MB 12.9 MB/s eta 0:00:01\n",
      "   ----------------------- ---------------- 1.1/1.9 MB 13.9 MB/s eta 0:00:01\n",
      "   --------------------------------- ------ 1.6/1.9 MB 12.6 MB/s eta 0:00:01\n",
      "   ---------------------------------------  1.9/1.9 MB 11.9 MB/s eta 0:00:01\n",
      "   ---------------------------------------- 1.9/1.9 MB 10.0 MB/s eta 0:00:00\n",
      "Downloading python_multipart-0.0.9-py3-none-any.whl (22 kB)\n",
      "Downloading ruff-0.4.7-py3-none-win_amd64.whl (8.6 MB)\n",
      "   ---------------------------------------- 0.0/8.6 MB ? eta -:--:--\n",
      "   -- ------------------------------------- 0.6/8.6 MB 12.6 MB/s eta 0:00:01\n",
      "   ----- ---------------------------------- 1.2/8.6 MB 12.9 MB/s eta 0:00:01\n",
      "   -------- ------------------------------- 1.9/8.6 MB 13.4 MB/s eta 0:00:01\n",
      "   ----------- ---------------------------- 2.5/8.6 MB 13.1 MB/s eta 0:00:01\n",
      "   ------------- -------------------------- 3.0/8.6 MB 12.7 MB/s eta 0:00:01\n",
      "   ---------------- ----------------------- 3.5/8.6 MB 12.3 MB/s eta 0:00:01\n",
      "   ------------------- -------------------- 4.1/8.6 MB 12.6 MB/s eta 0:00:01\n",
      "   ---------------------- ----------------- 4.8/8.6 MB 12.7 MB/s eta 0:00:01\n",
      "   ------------------------- -------------- 5.4/8.6 MB 12.7 MB/s eta 0:00:01\n",
      "   --------------------------- ------------ 5.9/8.6 MB 12.6 MB/s eta 0:00:01\n",
      "   ----------------------------- ---------- 6.4/8.6 MB 12.8 MB/s eta 0:00:01\n",
      "   -------------------------------- ------- 6.9/8.6 MB 12.6 MB/s eta 0:00:01\n",
      "   ---------------------------------- ----- 7.4/8.6 MB 12.8 MB/s eta 0:00:01\n",
      "   ------------------------------------- -- 8.1/8.6 MB 12.6 MB/s eta 0:00:01\n",
      "   ---------------------------------------  8.6/8.6 MB 12.8 MB/s eta 0:00:01\n",
      "   ---------------------------------------- 8.6/8.6 MB 12.2 MB/s eta 0:00:00\n",
      "Downloading semantic_version-2.10.0-py2.py3-none-any.whl (15 kB)\n",
      "Downloading typer-0.12.3-py3-none-any.whl (47 kB)\n",
      "   ---------------------------------------- 0.0/47.2 kB ? eta -:--:--\n",
      "   ---------------------------------------- 47.2/47.2 kB 2.3 MB/s eta 0:00:00\n",
      "Downloading uvicorn-0.30.0-py3-none-any.whl (62 kB)\n",
      "   ---------------------------------------- 0.0/62.4 kB ? eta -:--:--\n",
      "   ---------------------------------------- 62.4/62.4 kB ? eta 0:00:00\n",
      "Downloading fastapi-0.111.0-py3-none-any.whl (91 kB)\n",
      "   ---------------------------------------- 0.0/92.0 kB ? eta -:--:--\n",
      "   ---------------------------------------- 92.0/92.0 kB 5.5 MB/s eta 0:00:00\n",
      "Downloading pydub-0.25.1-py2.py3-none-any.whl (32 kB)\n",
      "Downloading annotated_types-0.7.0-py3-none-any.whl (13 kB)\n",
      "Downloading email_validator-2.1.1-py3-none-any.whl (30 kB)\n",
      "Downloading fastapi_cli-0.0.4-py3-none-any.whl (9.5 kB)\n",
      "Downloading h11-0.14.0-py3-none-any.whl (58 kB)\n",
      "   ---------------------------------------- 0.0/58.3 kB ? eta -:--:--\n",
      "   ---------------------------------------- 58.3/58.3 kB 3.2 MB/s eta 0:00:00\n",
      "Downloading shellingham-1.5.4-py2.py3-none-any.whl (9.8 kB)\n",
      "Downloading starlette-0.37.2-py3-none-any.whl (71 kB)\n",
      "   ---------------------------------------- 0.0/71.9 kB ? eta -:--:--\n",
      "   ---------------------------------------- 71.9/71.9 kB 3.9 MB/s eta 0:00:00\n",
      "Downloading websockets-11.0.3-cp311-cp311-win_amd64.whl (124 kB)\n",
      "   ---------------------------------------- 0.0/124.7 kB ? eta -:--:--\n",
      "   ---------------------------------------- 124.7/124.7 kB 7.2 MB/s eta 0:00:00\n",
      "Downloading dnspython-2.6.1-py3-none-any.whl (307 kB)\n",
      "   ---------------------------------------- 0.0/307.7 kB ? eta -:--:--\n",
      "   ---------------------------------------- 307.7/307.7 kB 9.6 MB/s eta 0:00:00\n",
      "Downloading httptools-0.6.1-cp311-cp311-win_amd64.whl (55 kB)\n",
      "   ---------------------------------------- 0.0/55.4 kB ? eta -:--:--\n",
      "   ---------------------------------------- 55.4/55.4 kB 3.0 MB/s eta 0:00:00\n",
      "Downloading watchfiles-0.22.0-cp311-none-win_amd64.whl (281 kB)\n",
      "   ---------------------------------------- 0.0/282.0 kB ? eta -:--:--\n",
      "   ---------------------------------------- 282.0/282.0 kB 8.5 MB/s eta 0:00:00\n",
      "Installing collected packages: pydub, ffmpy, websockets, tomlkit, shellingham, semantic-version, ruff, python-multipart, pydantic-core, orjson, importlib-resources, httptools, h11, dnspython, annotated-types, aiofiles, watchfiles, uvicorn, starlette, pydantic, huggingface-hub, httpcore, email_validator, typer, httpx, gradio-client, fastapi-cli, fastapi, gradio\n",
      "  Attempting uninstall: tomlkit\n",
      "    Found existing installation: tomlkit 0.11.1\n",
      "    Uninstalling tomlkit-0.11.1:\n",
      "      Successfully uninstalled tomlkit-0.11.1\n",
      "  Attempting uninstall: pydantic\n",
      "    Found existing installation: pydantic 1.10.12\n",
      "    Uninstalling pydantic-1.10.12:\n",
      "      Successfully uninstalled pydantic-1.10.12\n",
      "Successfully installed aiofiles-23.2.1 annotated-types-0.7.0 dnspython-2.6.1 email_validator-2.1.1 fastapi-0.111.0 fastapi-cli-0.0.4 ffmpy-0.3.2 gradio-4.32.1 gradio-client-0.17.0 h11-0.14.0 httpcore-1.0.5 httptools-0.6.1 httpx-0.27.0 huggingface-hub-0.23.2 importlib-resources-6.4.0 orjson-3.10.3 pydantic-2.7.2 pydantic-core-2.18.3 pydub-0.25.1 python-multipart-0.0.9 ruff-0.4.7 semantic-version-2.10.0 shellingham-1.5.4 starlette-0.37.2 tomlkit-0.12.0 typer-0.12.3 uvicorn-0.30.0 watchfiles-0.22.0 websockets-11.0.3\n"
     ]
    },
    {
     "name": "stderr",
     "output_type": "stream",
     "text": [
      "ERROR: pip's dependency resolver does not currently take into account all the packages that are installed. This behaviour is the source of the following dependency conflicts.\n",
      "anaconda-cloud-auth 0.1.4 requires pydantic<2.0, but you have pydantic 2.7.2 which is incompatible.\n"
     ]
    }
   ],
   "source": [
    "!pip install gradio\n"
   ]
  },
  {
   "cell_type": "code",
   "execution_count": 70,
   "id": "b9daba95-bc8c-449d-8882-dc91133948cf",
   "metadata": {},
   "outputs": [],
   "source": [
    "import gradio as gr\n",
    "\n"
   ]
  },
  {
   "cell_type": "code",
   "execution_count": 76,
   "id": "a48e5b84-4572-48b4-903a-f3e5d1993fb2",
   "metadata": {},
   "outputs": [
    {
     "name": "stdout",
     "output_type": "stream",
     "text": [
      "General_Health [5 2 3 4 1]\n",
      "Exercise [0 1]\n",
      "Heart_Disease [0 1]\n",
      "Age_Category [ 0  1  2  3  4  5  6  7  8  9 10 11 12]\n",
      "Alcohol_Consumption [ 0.  4.  3.  8. 30.  2. 12.  1.  5. 10. 20. 17. 16.  6. 25. 28. 15.  7.\n",
      "  9. 24. 11. 29. 27. 14. 21. 23. 18. 26. 22. 13. 19.]\n"
     ]
    }
   ],
   "source": [
    "for i in cvd.columns:\n",
    "    print(i,cvd[i].unique())"
   ]
  },
  {
   "cell_type": "code",
   "execution_count": 81,
   "id": "6c0cc809-b7c1-4b50-b794-9887fce8f0ce",
   "metadata": {},
   "outputs": [],
   "source": [
    "# import joblib\n",
    "# import gradio as gr\n",
    "\n",
    "# # Load the saved model\n",
    "# model = joblib.load(r\"C:\\Users\\Anjaney Deshpande\\Desktop\\datazip\\cvd_project.pkl\")\n",
    "\n",
    "# # Define prediction function\n",
    "# def predict(General_Health, Exercise, Age_Category, Alcohol_Consumption):\n",
    "#     input_data = [[General_Health, Exercise, Age_Category, Alcohol_Consumption]]\n",
    "#     prediction = model.predict(input_data)\n",
    "#     return \"Heart Disease: Yes\" if prediction[0] == 1 else \"Heart Disease: No\"\n",
    "\n",
    "# # Create Gradio interface\n",
    "# interface = gr.Interface(\n",
    "#     fn=predict,\n",
    "#     inputs=[\n",
    "#         gr.inputs.Dropdown(choices=[5, 4, 3, 2, 1], label=\"General Health\"),\n",
    "#         gr.inputs.Radio(choices=[0, 1], label=\"Exercise\"),\n",
    "#         gr.inputs.Slider(minimum=0, maximum=12, step=1, label=\"Age Category\"),\n",
    "#         gr.inputs.Dropdown(\n",
    "#             choices=[\n",
    "#                 0.0, 4.0, 3.0, 8.0, 30.0, 2.0, 12.0, 1.0, 5.0, 10.0, \n",
    "#                 20.0, 17.0, 16.0, 6.0, 25.0, 28.0, 15.0, 7.0, 9.0, \n",
    "#                 24.0, 11.0, 29.0, 27.0, 14.0, 21.0, 23.0, 18.0, 26.0, \n",
    "#                 22.0, 13.0, 19.0\n",
    "#             ], \n",
    "#             label=\"Alcohol Consumption\"\n",
    "#         )\n",
    "#     ],\n",
    "#     outputs=\"text\",\n",
    "#     title=\"Heart Disease Prediction\",\n",
    "#     description=\"Predict the likelihood of heart disease based on various health features.\"\n",
    "# )\n",
    "\n",
    "# # Launch the interface\n",
    "# interface.launch()\n"
   ]
  },
  {
   "cell_type": "code",
   "execution_count": 80,
   "id": "366cc85a-a9bc-45e1-95a5-dacdf1f07fd0",
   "metadata": {
    "scrolled": true
   },
   "outputs": [
    {
     "name": "stdout",
     "output_type": "stream",
     "text": [
      "Running on local URL:  http://127.0.0.1:7860\n",
      "\n",
      "To create a public link, set `share=True` in `launch()`.\n"
     ]
    },
    {
     "data": {
      "text/html": [
       "<div><iframe src=\"http://127.0.0.1:7860/\" width=\"100%\" height=\"500\" allow=\"autoplay; camera; microphone; clipboard-read; clipboard-write;\" frameborder=\"0\" allowfullscreen></iframe></div>"
      ],
      "text/plain": [
       "<IPython.core.display.HTML object>"
      ]
     },
     "metadata": {},
     "output_type": "display_data"
    },
    {
     "data": {
      "text/plain": []
     },
     "execution_count": 80,
     "metadata": {},
     "output_type": "execute_result"
    },
    {
     "name": "stderr",
     "output_type": "stream",
     "text": [
      "C:\\ProgramData\\anaconda3\\Lib\\site-packages\\sklearn\\base.py:439: UserWarning: X does not have valid feature names, but RandomForestClassifier was fitted with feature names\n",
      "  warnings.warn(\n",
      "C:\\ProgramData\\anaconda3\\Lib\\site-packages\\sklearn\\base.py:439: UserWarning: X does not have valid feature names, but RandomForestClassifier was fitted with feature names\n",
      "  warnings.warn(\n"
     ]
    }
   ],
   "source": [
    "import joblib\n",
    "import gradio as gr\n",
    "\n",
    "# Load the saved model\n",
    "\n",
    "model = joblib.load(r\"C:\\Users\\Anjaney Deshpande\\Desktop\\datazip\\cvd_project.pkl\")\n",
    "\n",
    "# Define prediction function\n",
    "def predict(General_Health, Exercise, Age_Category, Alcohol_Consumption):\n",
    "    input_data = [[General_Health, Exercise, Age_Category, Alcohol_Consumption]]\n",
    "    prediction = model.predict(input_data)\n",
    "    return \"Heart Disease: Yes\" if prediction[0] == 1 else \"Heart Disease: No\"\n",
    "\n",
    "# Create Gradio interface\n",
    "interface = gr.Interface(\n",
    "    fn=predict,\n",
    "    inputs=[\n",
    "        gr.Dropdown(choices=[5, 4, 3, 2, 1], label=\"General Health\"),\n",
    "        gr.Radio(choices=[0, 1], label=\"Exercise\"),\n",
    "        gr.Slider(minimum=0, maximum=12, step=1, label=\"Age Category\"),\n",
    "        gr.Dropdown(\n",
    "            choices=[\n",
    "                0.0, 4.0, 3.0, 8.0, 30.0, 2.0, 12.0, 1.0, 5.0, 10.0, \n",
    "                20.0, 17.0, 16.0, 6.0, 25.0, 28.0, 15.0, 7.0, 9.0, \n",
    "                24.0, 11.0, 29.0, 27.0, 14.0, 21.0, 23.0, 18.0, 26.0, \n",
    "                22.0, 13.0, 19.0\n",
    "            ], \n",
    "            label=\"Alcohol Consumption\"\n",
    "        )\n",
    "    ],\n",
    "    outputs=\"text\",\n",
    "    title=\"Heart Disease Prediction\",\n",
    "    description=\"Predict the likelihood of heart disease based on various health features.\"\n",
    ")\n",
    "\n",
    "# Launch the interface\n",
    "interface.launch()\n"
   ]
  },
  {
   "cell_type": "code",
   "execution_count": null,
   "id": "4ba296ac-0bf0-42c1-bb18-f8cad50b4fd7",
   "metadata": {},
   "outputs": [],
   "source": []
  },
  {
   "cell_type": "code",
   "execution_count": null,
   "id": "ce68bc40-c9c1-46c4-9f24-b180f86f5baa",
   "metadata": {},
   "outputs": [],
   "source": []
  },
  {
   "cell_type": "code",
   "execution_count": null,
   "id": "8237f891-bc84-4a0f-bdd6-b8b86b52cf94",
   "metadata": {},
   "outputs": [],
   "source": []
  },
  {
   "cell_type": "code",
   "execution_count": 84,
   "id": "ae644994-8ba5-462d-9b83-d995b0ac12af",
   "metadata": {},
   "outputs": [
    {
     "name": "stdout",
     "output_type": "stream",
     "text": [
      "Running on local URL:  http://127.0.0.1:7862\n",
      "Running on public URL: https://177fee42cc3d879206.gradio.live\n",
      "\n",
      "This share link expires in 72 hours. For free permanent hosting and GPU upgrades, run `gradio deploy` from Terminal to deploy to Spaces (https://huggingface.co/spaces)\n"
     ]
    },
    {
     "data": {
      "text/html": [
       "<div><iframe src=\"https://177fee42cc3d879206.gradio.live\" width=\"100%\" height=\"500\" allow=\"autoplay; camera; microphone; clipboard-read; clipboard-write;\" frameborder=\"0\" allowfullscreen></iframe></div>"
      ],
      "text/plain": [
       "<IPython.core.display.HTML object>"
      ]
     },
     "metadata": {},
     "output_type": "display_data"
    },
    {
     "data": {
      "text/plain": []
     },
     "execution_count": 84,
     "metadata": {},
     "output_type": "execute_result"
    },
    {
     "name": "stderr",
     "output_type": "stream",
     "text": [
      "C:\\ProgramData\\anaconda3\\Lib\\site-packages\\sklearn\\base.py:439: UserWarning: X does not have valid feature names, but RandomForestClassifier was fitted with feature names\n",
      "  warnings.warn(\n"
     ]
    }
   ],
   "source": [
    "import joblib\n",
    "import gradio as gr\n",
    "\n",
    "# Load the saved model\n",
    "model = joblib.load(r\"C:\\Users\\Anjaney Deshpande\\Desktop\\datazip\\cvd_project.pkl\")\n",
    "\n",
    "# Define prediction function\n",
    "def predict(General_Health, Exercise, Age_Category, Alcohol_Consumption):\n",
    "    # Convert input categorical values to their corresponding numerical values\n",
    "    general_health_dict = {'Poor': 5, 'Very Good': 2, 'Good': 3, 'Fair': 4, 'Excellent': 1}\n",
    "    exercise_dict = {'No': 0, 'Yes': 1}\n",
    "    age_category_dict = {\n",
    "        '70-74': 0, '60-64': 1, '75-79': 2, '80+': 3, '65-69': 4, '50-54': 5,\n",
    "        '45-49': 6, '18-24': 7, '30-34': 8, '55-59': 9, '35-39': 10, '40-44': 11, '25-29': 12\n",
    "    }\n",
    "    \n",
    "    General_Health = general_health_dict[General_Health]\n",
    "    Exercise = exercise_dict[Exercise]\n",
    "    Age_Category = age_category_dict[Age_Category]\n",
    "    \n",
    "    input_data = [[General_Health, Exercise, Age_Category, Alcohol_Consumption]]\n",
    "    prediction = model.predict(input_data)\n",
    "    return \"Heart Disease: Yes\" if prediction[0] == 1 else \"Heart Disease: No\"\n",
    "\n",
    "# Create Gradio interface with specified options\n",
    "interface = gr.Interface(\n",
    "    fn=predict,\n",
    "    inputs=[\n",
    "        gr.Dropdown(choices=['Poor', 'Very Good', 'Good', 'Fair', 'Excellent'], label=\"General Health\"),\n",
    "        gr.Radio(choices=['No', 'Yes'], label=\"Exercise\"),\n",
    "        gr.Dropdown(\n",
    "            choices=[\n",
    "                '70-74', '60-64', '75-79', '80+', '65-69', '50-54', '45-49',\n",
    "                '18-24', '30-34', '55-59', '35-39', '40-44', '25-29'\n",
    "            ], \n",
    "            label=\"Age Category\"\n",
    "        ),\n",
    "        gr.Number(label=\"Alcohol Consumption\")\n",
    "    ],\n",
    "    outputs=\"text\",\n",
    "    title=\"Heart Disease Prediction\",\n",
    "    description=\"Predict the likelihood of heart disease based on various health features.\"\n",
    ")\n",
    "\n",
    "# Launch the interface\n",
    "interface.launch(share=True)\n"
   ]
  },
  {
   "cell_type": "markdown",
   "id": "bd674dd4-7c7a-4a26-9ce5-a78f686773fc",
   "metadata": {},
   "source": [
    "## Imp_Features"
   ]
  },
  {
   "cell_type": "code",
   "execution_count": 29,
   "id": "fdab13d1-2251-4643-9daa-382a0dd9b256",
   "metadata": {},
   "outputs": [
    {
     "data": {
      "text/plain": [
       "array([0.09981485, 0.0359347 , 0.19023213, 0.01313234, 0.01966735,\n",
       "       0.03664909, 0.01059105, 0.00467885, 0.00162717, 0.4416373 ,\n",
       "       0.01184086, 0.00073959, 0.09981685, 0.00279349, 0.00507879,\n",
       "       0.0257656 ])"
      ]
     },
     "execution_count": 29,
     "metadata": {},
     "output_type": "execute_result"
    }
   ],
   "source": [
    "rfc.feature_importances_"
   ]
  },
  {
   "cell_type": "code",
   "execution_count": 30,
   "id": "bac3b14d-1da5-4487-814b-f5472e1f483e",
   "metadata": {},
   "outputs": [
    {
     "data": {
      "text/plain": [
       "Index(['General_Health', 'Checkup', 'Exercise', 'Heart_Disease', 'Skin_Cancer',\n",
       "       'Other_Cancer', 'Depression', 'Diabetes', 'Arthritis', 'Sex',\n",
       "       'Age_Category', 'BMI', 'Smoking_History', 'Alcohol_Consumption',\n",
       "       'Fruit_Consumption', 'Green_Vegetables_Consumption',\n",
       "       'FriedPotato_Consumption'],\n",
       "      dtype='object')"
      ]
     },
     "execution_count": 30,
     "metadata": {},
     "output_type": "execute_result"
    }
   ],
   "source": [
    "cvd.columns"
   ]
  },
  {
   "cell_type": "code",
   "execution_count": 31,
   "id": "6e79ad30-11d7-40b7-9a2d-15379726032e",
   "metadata": {},
   "outputs": [],
   "source": [
    "l1=['Checkup','Skin_Cancer',\n",
    "       'Other_Cancer', 'Depression', 'Diabetes', 'Arthritis', 'Sex',\n",
    "       'BMI', 'Smoking_History','Fruit_Consumption', 'Green_Vegetables_Consumption',\n",
    "       'FriedPotato_Consumption']"
   ]
  },
  {
   "cell_type": "code",
   "execution_count": 33,
   "id": "c712e149-0b79-43f1-a52a-79fe098aaa7b",
   "metadata": {},
   "outputs": [],
   "source": [
    "df=pd.DataFrame( {\"cols\":l1,\n",
    "                  \"values\":rfc.feature_importances_ })\n",
    "\n"
   ]
  },
  {
   "cell_type": "code",
   "execution_count": 46,
   "id": "209d7aec-e9f7-4982-9aca-beef28018131",
   "metadata": {},
   "outputs": [
    {
     "data": {
      "text/plain": [
       "array(['General_Health', 'Exercise', 'Age_Category',\n",
       "       'Alcohol_Consumption'], dtype=object)"
      ]
     },
     "execution_count": 46,
     "metadata": {},
     "output_type": "execute_result"
    }
   ],
   "source": [
    "df[df['values']>0.05].cols.values"
   ]
  },
  {
   "cell_type": "code",
   "execution_count": 43,
   "id": "c4dcd760-1b0a-4f95-81ae-8487d50b7a96",
   "metadata": {},
   "outputs": [
    {
     "data": {
      "text/html": [
       "<div>\n",
       "<style scoped>\n",
       "    .dataframe tbody tr th:only-of-type {\n",
       "        vertical-align: middle;\n",
       "    }\n",
       "\n",
       "    .dataframe tbody tr th {\n",
       "        vertical-align: top;\n",
       "    }\n",
       "\n",
       "    .dataframe thead th {\n",
       "        text-align: right;\n",
       "    }\n",
       "</style>\n",
       "<table border=\"1\" class=\"dataframe\">\n",
       "  <thead>\n",
       "    <tr style=\"text-align: right;\">\n",
       "      <th></th>\n",
       "      <th>cols</th>\n",
       "      <th>values</th>\n",
       "    </tr>\n",
       "  </thead>\n",
       "  <tbody>\n",
       "    <tr>\n",
       "      <th>0</th>\n",
       "      <td>General_Health</td>\n",
       "      <td>0.099815</td>\n",
       "    </tr>\n",
       "    <tr>\n",
       "      <th>1</th>\n",
       "      <td>Checkup</td>\n",
       "      <td>0.035935</td>\n",
       "    </tr>\n",
       "    <tr>\n",
       "      <th>2</th>\n",
       "      <td>Exercise</td>\n",
       "      <td>0.190232</td>\n",
       "    </tr>\n",
       "    <tr>\n",
       "      <th>3</th>\n",
       "      <td>Skin_Cancer</td>\n",
       "      <td>0.013132</td>\n",
       "    </tr>\n",
       "    <tr>\n",
       "      <th>4</th>\n",
       "      <td>Other_Cancer</td>\n",
       "      <td>0.019667</td>\n",
       "    </tr>\n",
       "    <tr>\n",
       "      <th>5</th>\n",
       "      <td>Depression</td>\n",
       "      <td>0.036649</td>\n",
       "    </tr>\n",
       "    <tr>\n",
       "      <th>6</th>\n",
       "      <td>Diabetes</td>\n",
       "      <td>0.010591</td>\n",
       "    </tr>\n",
       "    <tr>\n",
       "      <th>7</th>\n",
       "      <td>Arthritis</td>\n",
       "      <td>0.004679</td>\n",
       "    </tr>\n",
       "    <tr>\n",
       "      <th>8</th>\n",
       "      <td>Sex</td>\n",
       "      <td>0.001627</td>\n",
       "    </tr>\n",
       "    <tr>\n",
       "      <th>9</th>\n",
       "      <td>Age_Category</td>\n",
       "      <td>0.441637</td>\n",
       "    </tr>\n",
       "    <tr>\n",
       "      <th>10</th>\n",
       "      <td>BMI</td>\n",
       "      <td>0.011841</td>\n",
       "    </tr>\n",
       "    <tr>\n",
       "      <th>11</th>\n",
       "      <td>Smoking_History</td>\n",
       "      <td>0.000740</td>\n",
       "    </tr>\n",
       "    <tr>\n",
       "      <th>12</th>\n",
       "      <td>Alcohol_Consumption</td>\n",
       "      <td>0.099817</td>\n",
       "    </tr>\n",
       "    <tr>\n",
       "      <th>13</th>\n",
       "      <td>Fruit_Consumption</td>\n",
       "      <td>0.002793</td>\n",
       "    </tr>\n",
       "    <tr>\n",
       "      <th>14</th>\n",
       "      <td>Green_Vegetables_Consumption</td>\n",
       "      <td>0.005079</td>\n",
       "    </tr>\n",
       "    <tr>\n",
       "      <th>15</th>\n",
       "      <td>FriedPotato_Consumption</td>\n",
       "      <td>0.025766</td>\n",
       "    </tr>\n",
       "  </tbody>\n",
       "</table>\n",
       "</div>"
      ],
      "text/plain": [
       "                            cols    values\n",
       "0                 General_Health  0.099815\n",
       "1                        Checkup  0.035935\n",
       "2                       Exercise  0.190232\n",
       "3                    Skin_Cancer  0.013132\n",
       "4                   Other_Cancer  0.019667\n",
       "5                     Depression  0.036649\n",
       "6                       Diabetes  0.010591\n",
       "7                      Arthritis  0.004679\n",
       "8                            Sex  0.001627\n",
       "9                   Age_Category  0.441637\n",
       "10                           BMI  0.011841\n",
       "11               Smoking_History  0.000740\n",
       "12           Alcohol_Consumption  0.099817\n",
       "13             Fruit_Consumption  0.002793\n",
       "14  Green_Vegetables_Consumption  0.005079\n",
       "15       FriedPotato_Consumption  0.025766"
      ]
     },
     "execution_count": 43,
     "metadata": {},
     "output_type": "execute_result"
    }
   ],
   "source": [
    "df"
   ]
  },
  {
   "cell_type": "code",
   "execution_count": 44,
   "id": "c543276b-ff52-45be-9e8b-aff9eadd9e53",
   "metadata": {},
   "outputs": [
    {
     "name": "stdout",
     "output_type": "stream",
     "text": [
      "Selected Features (above mean importance): [0, 2, 9, 12]\n",
      "Threshold value: 0.0625\n"
     ]
    }
   ],
   "source": [
    "import pickle\n",
    "pickle.dump(rfc,open(r\"C:\\Users\\Anjaney Deshpande\\Desktop\\datazip\",'wb'))"
   ]
  },
  {
   "cell_type": "code",
   "execution_count": null,
   "id": "2100a476-83df-4f25-adca-c7964d885a06",
   "metadata": {},
   "outputs": [],
   "source": [
    "For free permanent hosting and GPU upgrades, run `gradio deploy` from Terminal to deploy to Spaces (https://huggingface.co/spaces)"
   ]
  }
 ],
 "metadata": {
  "kernelspec": {
   "display_name": "Python 3 (ipykernel)",
   "language": "python",
   "name": "python3"
  },
  "language_info": {
   "codemirror_mode": {
    "name": "ipython",
    "version": 3
   },
   "file_extension": ".py",
   "mimetype": "text/x-python",
   "name": "python",
   "nbconvert_exporter": "python",
   "pygments_lexer": "ipython3",
   "version": "3.11.7"
  }
 },
 "nbformat": 4,
 "nbformat_minor": 5
}
